{
 "cells": [
  {
   "cell_type": "code",
   "execution_count": 2,
   "metadata": {},
   "outputs": [],
   "source": [
    "import numpy as np\n",
    "import pandas as pd\n"
   ]
  },
  {
   "cell_type": "code",
   "execution_count": 27,
   "metadata": {},
   "outputs": [],
   "source": [
    "        notes = {\"Notes\": pd.DataFrame({\"Notes\": [\"Global Portfolio Monitoring Report Views. \"\n",
    "                          \"\", \"\", \"\",\n",
    "                          \"This report contains all standard views of the current data submission that will be\"\n",
    "                          \" shared within Global Portfolio Monitoring's dashboards and reporting suite.\",\n",
    "                          \"\",\n",
    "                          \"Please review the information on each sheet tab for accuracy and completeness. You are free\"\n",
    "                          \" to share and review this workbook with relevant local stakeholders for purposes of review.\"\n",
    "                          \" This extends to any Allianz employee that is authorized to review such Underwriting, \"\n",
    "                          \"Product, and profitability data.\", \"If there is any information that is not accurate and \"\n",
    "                          \"sharable with executives and/or local managers and analasts, please take this opportunity to\"\n",
    "                          \" correct the data submission before sending it.\",\n",
    "                          \"\", \"\", \"\",\n",
    "                          \"Purpose: The reports contained in this wookbook are for you, the local Business Unit representative's\",\n",
    "                          \" record and review. If you are confident in the reporting contained within please save it for later reference.\",\n",
    "                          \"If there is ever a need to review or correct GPM published materials you will have this as a record of what was provided.\",\n",
    "                          \"\", \"\", \"\",\n",
    "                          \"Note: -Currency figures may have formatting removed, no conversion operations have been performed between the template and these reports.\",\n",
    "                          \"      -GPM may share this data as other views or transformed/aggregated within the applicable \",\n",
    "                          \"\t Allianz Partners policies, procedures, and guidelines and at the direction of Global Product\",\n",
    "                          \"       & Underwriting leadership\", \"\", \"\",\n",
    "                          \"If you have questions please email GPM at <dana.mark@allianz.com>, <angela.chen@allianz.com>,\" \\\n",
    "                          \"<federico.guerreschi@allianz.com>, and/or <gavin.harmon@allianz.com>\",\n",
    "                          \"\", \"\", \"\",\n",
    "                          \"Gavin Harmon 02 - November -2020\"]})}"
   ]
  },
  {
   "cell_type": "code",
   "execution_count": 28,
   "metadata": {
    "scrolled": false
   },
   "outputs": [
    {
     "name": "stdout",
     "output_type": "stream",
     "text": [
      "{'Notes':                                                 Notes\n",
      "0          Global Portfolio Monitoring Report Views. \n",
      "1                                                    \n",
      "2                                                    \n",
      "3   This report contains all standard views of the...\n",
      "4                                                    \n",
      "5   Please review the information on each sheet ta...\n",
      "6   If there is any information that is not accura...\n",
      "7                                                    \n",
      "8                                                    \n",
      "9                                                    \n",
      "10  Purpose: The reports contained in this wookboo...\n",
      "11   record and review. If you are confident in th...\n",
      "12  If there is ever a need to review or correct G...\n",
      "13                                                   \n",
      "14                                                   \n",
      "15                                                   \n",
      "16  Note: -Currency figures may have formatting re...\n",
      "17        -GPM may share this data as other views ...\n",
      "18  \\t Allianz Partners policies, procedures, and ...\n",
      "19                          & Underwriting leadership\n",
      "20                                                   \n",
      "21                                                   \n",
      "22  If you have questions please email GPM at <dan...\n",
      "23                                                   \n",
      "24                                                   \n",
      "25                                                   \n",
      "26                   Gavin Harmon 02 - November -2020}\n"
     ]
    }
   ],
   "source": [
    "print(notes)"
   ]
  },
  {
   "cell_type": "code",
   "execution_count": null,
   "metadata": {},
   "outputs": [],
   "source": []
  }
 ],
 "metadata": {
  "kernelspec": {
   "display_name": "Python 3",
   "language": "python",
   "name": "python3"
  },
  "language_info": {
   "codemirror_mode": {
    "name": "ipython",
    "version": 3
   },
   "file_extension": ".py",
   "mimetype": "text/x-python",
   "name": "python",
   "nbconvert_exporter": "python",
   "pygments_lexer": "ipython3",
   "version": "3.7.6"
  }
 },
 "nbformat": 4,
 "nbformat_minor": 4
}
